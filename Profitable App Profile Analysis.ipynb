{
 "cells": [
  {
   "cell_type": "markdown",
   "metadata": {},
   "source": [
    "# User Rating Data Analysis\n",
    "We only build apps that are free to download and install, and our main source of revenue consists of in-app ads. This means that the number of users of our apps determines our revenue for any given app the more users who see and engage with the ads, the better.\\\n",
    "Our goal for this project is to analyze data to help our developers understand what type of apps are likely to attract more users.\n"
   ]
  },
  {
   "cell_type": "markdown",
   "metadata": {},
   "source": [
    "## Opening and Exploring Dataset\n",
    "\n",
    "![img](https://s3.amazonaws.com/dq-content/350/py1m8_statista.png) Source: [Statista](https://www.statista.com/statistics/276623/number-of-apps-available-in-leading-app-stores/)\n",
    "\n",
    "The inforgraphic shows that there are more than 4 million apps in both Google Play and iOS. This data is enormous to collect hence we will use a sample.\n",
    "Luckily we have a [dataset](https://www.kaggle.com/datasets/lava18/google-play-store-apps) containing approximately 10,000 Android apps from Google Play and another [dataset](https://www.kaggle.com/datasets/ramamet4/app-store-apple-data-set-10k-apps) containing approximately 7,000 iOS apps from App Store.\n",
    "\n",
    "We will begin by opening the two datasets to explore the data contained therein."
   ]
  },
  {
   "cell_type": "code",
   "execution_count": 1,
   "metadata": {},
   "outputs": [],
   "source": [
    "from csv import reader\n",
    "### Google Play data set ###\n",
    "opened_file = open('googleplaystore.csv')\n",
    "read_file = reader(opened_file)\n",
    "android = list(read_file)\n",
    "android_header = android[0]\n",
    "android = android[1:]\n",
    "\n",
    "### App Store data set ###\n",
    "\n",
    "opened_file = open('AppleStore.csv')\n",
    "read_file = reader(opened_file)\n",
    "ios = list(read_file)\n",
    "ios_header = ios[0]\n",
    "ios = ios[1:]"
   ]
  },
  {
   "cell_type": "markdown",
   "metadata": {},
   "source": [
    "We will then use the `explore_data()` function to explore the dataset in a more readable way."
   ]
  },
  {
   "cell_type": "code",
   "execution_count": 2,
   "metadata": {},
   "outputs": [
    {
     "name": "stdout",
     "output_type": "stream",
     "text": [
      "['App', 'Category', 'Rating', 'Reviews', 'Size', 'Installs', 'Type', 'Price', 'Content Rating', 'Genres', 'Last Updated', 'Current Ver', 'Android Ver']\n",
      "\n",
      "\n",
      "['Photo Editor & Candy Camera & Grid & ScrapBook', 'ART_AND_DESIGN', '4.1', '159', '19M', '10,000+', 'Free', '0', 'Everyone', 'Art & Design', 'January 7, 2018', '1.0.0', '4.0.3 and up']\n",
      "\n",
      "\n",
      "['Coloring book moana', 'ART_AND_DESIGN', '3.9', '967', '14M', '500,000+', 'Free', '0', 'Everyone', 'Art & Design;Pretend Play', 'January 15, 2018', '2.0.0', '4.0.3 and up']\n",
      "\n",
      "\n",
      "['U Launcher Lite – FREE Live Cool Themes, Hide Apps', 'ART_AND_DESIGN', '4.7', '87510', '8.7M', '5,000,000+', 'Free', '0', 'Everyone', 'Art & Design', 'August 1, 2018', '1.2.4', '4.0.3 and up']\n",
      "\n",
      "\n",
      "['Sketch - Draw & Paint', 'ART_AND_DESIGN', '4.5', '215644', '25M', '50,000,000+', 'Free', '0', 'Teen', 'Art & Design', 'June 8, 2018', 'Varies with device', '4.2 and up']\n",
      "\n",
      "\n",
      "Number of rows: 10841\n",
      "Number of columns: 13\n",
      "\n",
      "\n",
      "['id', 'track_name', 'size_bytes', 'currency', 'price', 'rating_count_tot', 'rating_count_ver', 'user_rating', 'user_rating_ver', 'ver', 'cont_rating', 'prime_genre', 'sup_devices.num', 'ipadSc_urls.num', 'lang.num', 'vpp_lic']\n",
      "\n",
      "\n",
      "['284882215', 'Facebook', '389879808', 'USD', '0.0', '2974676', '212', '3.5', '3.5', '95.0', '4+', 'Social Networking', '37', '1', '29', '1']\n",
      "\n",
      "\n",
      "['389801252', 'Instagram', '113954816', 'USD', '0.0', '2161558', '1289', '4.5', '4.0', '10.23', '12+', 'Photo & Video', '37', '0', '29', '1']\n",
      "\n",
      "\n",
      "['529479190', 'Clash of Clans', '116476928', 'USD', '0.0', '2130805', '579', '4.5', '4.5', '9.24.12', '9+', 'Games', '38', '5', '18', '1']\n",
      "\n",
      "\n",
      "['420009108', 'Temple Run', '65921024', 'USD', '0.0', '1724546', '3842', '4.5', '4.0', '1.6.2', '9+', 'Games', '40', '5', '1', '1']\n",
      "\n",
      "\n",
      "Number of rows: 7197\n",
      "Number of columns: 16\n"
     ]
    }
   ],
   "source": [
    "def explore_data(dataset, start, end, rows_and_columns=False):\n",
    "    dataset_slice = dataset[start:end]    \n",
    "    for row in dataset_slice:\n",
    "        print(row)\n",
    "        print('\\n')\n",
    "        \n",
    "    if rows_and_columns:\n",
    "        print('Number of rows:', len(dataset))\n",
    "        print('Number of columns:', len(dataset[0]))\n",
    "\n",
    "print(android_header)\n",
    "print('\\n')\n",
    "explore_data(android, 0, 4, True)\n",
    "print('\\n')\n",
    "print(ios_header)\n",
    "print('\\n')\n",
    "explore_data(ios, 0, 4, True)"
   ]
  },
  {
   "cell_type": "markdown",
   "metadata": {},
   "source": [
    "# Deleting Wrong Data\n",
    "\n",
    "With reference to the Google Play discussion section, there is a missing entry in row index 10472. To ascertain this error, we will first print that particular row (10472), print the android dataset header, and lastly print a random row that has correct entries as a model for comparison. "
   ]
  },
  {
   "cell_type": "code",
   "execution_count": 3,
   "metadata": {},
   "outputs": [
    {
     "name": "stdout",
     "output_type": "stream",
     "text": [
      "['Life Made WI-Fi Touchscreen Photo Frame', '1.9', '19', '3.0M', '1,000+', 'Free', '0', 'Everyone', '', 'February 11, 2018', '1.0.19', '4.0 and up']\n",
      "\n",
      "\n",
      "['App', 'Category', 'Rating', 'Reviews', 'Size', 'Installs', 'Type', 'Price', 'Content Rating', 'Genres', 'Last Updated', 'Current Ver', 'Android Ver']\n",
      "\n",
      "\n",
      "['StarTimes - Live International Champions Cup', 'ENTERTAINMENT', '4.4', '17682', '9.7M', '1,000,000+', 'Free', '0', 'Everyone', 'Entertainment', 'August 3, 2018', '5.2', '4.0.3 and up']\n"
     ]
    }
   ],
   "source": [
    "print(android[10472])\n",
    "print('\\n')\n",
    "print(android_header)\n",
    "print('\\n')\n",
    "print(android[871])"
   ]
  },
  {
   "cell_type": "markdown",
   "metadata": {},
   "source": [
    "Above, we see that the app corresponding to row index 10472 has a rating of 19 contrary to the maximum rating in Google Play Store dataset that is 5. The error is as a result of missing data in the 'category' column (as per the [discussion section](https://www.kaggle.com/datasets/lava18/google-play-store-apps/discussion/66015)). We therefore need to delete that particular row for accurate analysis. "
   ]
  },
  {
   "cell_type": "code",
   "execution_count": 4,
   "metadata": {},
   "outputs": [
    {
     "name": "stdout",
     "output_type": "stream",
     "text": [
      "['Life Made WI-Fi Touchscreen Photo Frame', '1.9', '19', '3.0M', '1,000+', 'Free', '0', 'Everyone', '', 'February 11, 2018', '1.0.19', '4.0 and up']\n",
      "10840\n"
     ]
    }
   ],
   "source": [
    "print(android[10472])\n",
    "del android[10472]\n",
    "print(len(android))"
   ]
  },
  {
   "cell_type": "markdown",
   "metadata": {},
   "source": [
    "## Removing Duplicates\n",
    "The Google Play dataset has duplicate entries that may distort our data analysis process hence the need to remove them inorder to remain with unique data."
   ]
  },
  {
   "cell_type": "markdown",
   "metadata": {},
   "source": [
    "### Part One\n",
    "\n",
    "When we explore the data (Google Play Dataset) we find that there are some apps with more than one entry, for example **Instagram**"
   ]
  },
  {
   "cell_type": "code",
   "execution_count": 5,
   "metadata": {},
   "outputs": [
    {
     "name": "stdout",
     "output_type": "stream",
     "text": [
      "['Instagram', 'SOCIAL', '4.5', '66577313', 'Varies with device', '1,000,000,000+', 'Free', '0', 'Teen', 'Social', 'July 31, 2018', 'Varies with device', 'Varies with device']\n",
      "['Instagram', 'SOCIAL', '4.5', '66577446', 'Varies with device', '1,000,000,000+', 'Free', '0', 'Teen', 'Social', 'July 31, 2018', 'Varies with device', 'Varies with device']\n",
      "['Instagram', 'SOCIAL', '4.5', '66577313', 'Varies with device', '1,000,000,000+', 'Free', '0', 'Teen', 'Social', 'July 31, 2018', 'Varies with device', 'Varies with device']\n",
      "['Instagram', 'SOCIAL', '4.5', '66509917', 'Varies with device', '1,000,000,000+', 'Free', '0', 'Teen', 'Social', 'July 31, 2018', 'Varies with device', 'Varies with device']\n",
      "Number of duplicate apps: 1181\n",
      "/n\n",
      "Examples of duplicate apps: ['Quick PDF Scanner + OCR FREE', 'Box', 'Google My Business', 'ZOOM Cloud Meetings', 'join.me - Simple Meetings', 'Box', 'Zenefits', 'Google Ads', 'Google My Business', 'Slack', 'FreshBooks Classic', 'Insightly CRM', 'QuickBooks Accounting: Invoicing & Expenses', 'HipChat - Chat Built for Teams', 'Xero Accounting Software']\n"
     ]
    }
   ],
   "source": [
    "for app in android:\n",
    "    name = app[0]\n",
    "    if name == 'Instagram':\n",
    "        print(app)\n",
    "        \n",
    "duplicate_apps = []\n",
    "unique_apps = []\n",
    "\n",
    "for app in android:\n",
    "    name = app[0]\n",
    "    if name in unique_apps:\n",
    "        duplicate_apps.append(name)\n",
    "    else:\n",
    "        unique_apps.append(name)\n",
    "        \n",
    "print('Number of duplicate apps:', len(duplicate_apps))\n",
    "print('/n')\n",
    "print('Examples of duplicate apps:', duplicate_apps[:15])\n",
    "     "
   ]
  },
  {
   "cell_type": "markdown",
   "metadata": {},
   "source": [
    "### Part Two"
   ]
  },
  {
   "cell_type": "code",
   "execution_count": 6,
   "metadata": {},
   "outputs": [
    {
     "name": "stdout",
     "output_type": "stream",
     "text": [
      "Expected length: 9659\n",
      "Actual length: 9659\n"
     ]
    }
   ],
   "source": [
    "reviews_max = {}\n",
    "\n",
    "for app in android:\n",
    "    name = app[0]\n",
    "    n_reviews = float(app[3])\n",
    "    \n",
    "    if name in reviews_max and reviews_max[name] < n_reviews:\n",
    "        reviews_max[name] = n_reviews\n",
    "        \n",
    "    elif name not in reviews_max:\n",
    "        reviews_max[name] = n_reviews\n",
    "        \n",
    "print('Expected length:', len(android) - 1181)\n",
    "print('Actual length:', len(reviews_max))"
   ]
  },
  {
   "cell_type": "markdown",
   "metadata": {},
   "source": [
    "We want to use the dictionary created above `review_max{}` to remove duplicates.\n",
    "* Step 1\n",
    "    - We create two empty lists i.e. android_clean; for storing the row that has no duplicateds\n",
    "    - alrady_added; to store app names.\n",
    "* Step 2\n",
    "    - We loop through the android dataset and in each iteration we;\n",
    "        * isolate the name and the number of reviews of the app\n",
    "    - We then intiate a conditional statement that matches the number of reiview of the current app to the number of reviews that are in the `review_max dictionary`\n",
    "    - In the same conditional statement, we also ensure that the name of the app is not in the `already_added`\n",
    "    \n",
    "* Step 3\n",
    "    - We explore the `android_clean` dataset using the `explore_data()` function to ensure everything went as expected."
   ]
  },
  {
   "cell_type": "code",
   "execution_count": 7,
   "metadata": {
    "scrolled": false
   },
   "outputs": [
    {
     "name": "stdout",
     "output_type": "stream",
     "text": [
      "['Photo Editor & Candy Camera & Grid & ScrapBook', 'ART_AND_DESIGN', '4.1', '159', '19M', '10,000+', 'Free', '0', 'Everyone', 'Art & Design', 'January 7, 2018', '1.0.0', '4.0.3 and up']\n",
      "\n",
      "\n",
      "['U Launcher Lite – FREE Live Cool Themes, Hide Apps', 'ART_AND_DESIGN', '4.7', '87510', '8.7M', '5,000,000+', 'Free', '0', 'Everyone', 'Art & Design', 'August 1, 2018', '1.2.4', '4.0.3 and up']\n",
      "\n",
      "\n",
      "['Sketch - Draw & Paint', 'ART_AND_DESIGN', '4.5', '215644', '25M', '50,000,000+', 'Free', '0', 'Teen', 'Art & Design', 'June 8, 2018', 'Varies with device', '4.2 and up']\n",
      "\n",
      "\n",
      "Number of rows: 9659\n",
      "Number of columns: 13\n"
     ]
    }
   ],
   "source": [
    "android_clean = []\n",
    "already_added = []\n",
    "\n",
    "for app in android:\n",
    "    name = app[0]\n",
    "    n_reviews = float(app[3])\n",
    "    \n",
    "    if (reviews_max[name] == n_reviews) and (name not in already_added):\n",
    "        android_clean.append(app)\n",
    "        already_added.append(name)\n",
    "\n",
    "explore_data(android_clean, 0, 3, True)"
   ]
  },
  {
   "cell_type": "markdown",
   "metadata": {},
   "source": [
    "## Removing Non-English Apps"
   ]
  },
  {
   "cell_type": "markdown",
   "metadata": {},
   "source": [
    "### Part One\n",
    "When we further explore the data, we realize that some apps are not designed for the english speaking audience.\n",
    "We will remove such apps because our objective to reach the english speaking audience."
   ]
  },
  {
   "cell_type": "code",
   "execution_count": 8,
   "metadata": {
    "scrolled": true
   },
   "outputs": [
    {
     "name": "stdout",
     "output_type": "stream",
     "text": [
      "True\n",
      "False\n",
      "False\n",
      "False\n"
     ]
    }
   ],
   "source": [
    "def is_english(string):\n",
    "    \n",
    "    for character in string:\n",
    "        if ord(character) > 127:\n",
    "            return False\n",
    "    \n",
    "    return True\n",
    "\n",
    "print (is_english('Instagram'))\n",
    "print (is_english('爱奇艺PPS -《欢乐颂2》电视剧热播'))\n",
    "print(is_english('Docs To Go™ Free Office Suite'))\n",
    "print(is_english('Instachat 😜'))\n"
   ]
  },
  {
   "cell_type": "markdown",
   "metadata": {},
   "source": [
    "### Part Two\n",
    "\n",
    "The function we wrote above isolates apps with english names that have special characters and emojis. This may lead to loss of useful data.\n",
    "In order to mitigate that risk, we will only remove an app if its name has more than three emojis."
   ]
  },
  {
   "cell_type": "code",
   "execution_count": 9,
   "metadata": {},
   "outputs": [
    {
     "name": "stdout",
     "output_type": "stream",
     "text": [
      "True\n",
      "True\n"
     ]
    }
   ],
   "source": [
    "def is_english(string):\n",
    "    non_ascii = 0\n",
    "    \n",
    "    for character in string:\n",
    "        if ord(character) > 127:\n",
    "            non_ascii += 1\n",
    "    \n",
    "    if non_ascii > 3:\n",
    "        return False\n",
    "    \n",
    "    else:\n",
    "        return True\n",
    "    \n",
    "print(is_english('Docs To Go™ Free Office Suite'))\n",
    "print(is_english('Instachat 😜'))\n"
   ]
  },
  {
   "cell_type": "code",
   "execution_count": 10,
   "metadata": {
    "scrolled": true
   },
   "outputs": [
    {
     "name": "stdout",
     "output_type": "stream",
     "text": [
      "['Photo Editor & Candy Camera & Grid & ScrapBook', 'ART_AND_DESIGN', '4.1', '159', '19M', '10,000+', 'Free', '0', 'Everyone', 'Art & Design', 'January 7, 2018', '1.0.0', '4.0.3 and up']\n",
      "\n",
      "\n",
      "['U Launcher Lite – FREE Live Cool Themes, Hide Apps', 'ART_AND_DESIGN', '4.7', '87510', '8.7M', '5,000,000+', 'Free', '0', 'Everyone', 'Art & Design', 'August 1, 2018', '1.2.4', '4.0.3 and up']\n",
      "\n",
      "\n",
      "['Sketch - Draw & Paint', 'ART_AND_DESIGN', '4.5', '215644', '25M', '50,000,000+', 'Free', '0', 'Teen', 'Art & Design', 'June 8, 2018', 'Varies with device', '4.2 and up']\n",
      "\n",
      "\n",
      "Number of rows: 9614\n",
      "Number of columns: 13\n",
      "\n",
      "\n",
      "['284882215', 'Facebook', '389879808', 'USD', '0.0', '2974676', '212', '3.5', '3.5', '95.0', '4+', 'Social Networking', '37', '1', '29', '1']\n",
      "\n",
      "\n",
      "['389801252', 'Instagram', '113954816', 'USD', '0.0', '2161558', '1289', '4.5', '4.0', '10.23', '12+', 'Photo & Video', '37', '0', '29', '1']\n",
      "\n",
      "\n",
      "['529479190', 'Clash of Clans', '116476928', 'USD', '0.0', '2130805', '579', '4.5', '4.5', '9.24.12', '9+', 'Games', '38', '5', '18', '1']\n",
      "\n",
      "\n",
      "Number of rows: 6183\n",
      "Number of columns: 16\n"
     ]
    }
   ],
   "source": [
    "android_english = []\n",
    "ios_english = []\n",
    "\n",
    "for app in android_clean:\n",
    "    name = app[0]\n",
    "    if is_english(name):\n",
    "        android_english.append(app)\n",
    "        \n",
    "for app in ios:\n",
    "    name = app[1]\n",
    "    if is_english(name):\n",
    "        ios_english.append(app)\n",
    "        \n",
    "explore_data(android_english, 0, 3, True)\n",
    "print('\\n')\n",
    "explore_data(ios_english, 0, 3, True)"
   ]
  },
  {
   "cell_type": "markdown",
   "metadata": {},
   "source": [
    "## Isolating the Free Apps\n",
    "\n",
    "Our objective of this analysis is to build apps that are free to download and install. Both the datasets have apps that are free and apps that are not free. We will therefore isolate to have apps that are only free/apps whose prices are zero."
   ]
  },
  {
   "cell_type": "code",
   "execution_count": 11,
   "metadata": {},
   "outputs": [
    {
     "name": "stdout",
     "output_type": "stream",
     "text": [
      "10040\n",
      "4056\n"
     ]
    }
   ],
   "source": [
    "android_final = []\n",
    "ios_final = []\n",
    "\n",
    "for app in android:\n",
    "    price = app[7]\n",
    "    if price == '0':\n",
    "        android_final.append(app)\n",
    "        \n",
    "for app in ios:\n",
    "    price = app[4]\n",
    "    if price == '0.0':\n",
    "        ios_final.append(app)\n",
    "        \n",
    "print(len(android_final))\n",
    "print(len(ios_final))"
   ]
  },
  {
   "cell_type": "markdown",
   "metadata": {},
   "source": [
    "## Most Common Apps by Genre"
   ]
  },
  {
   "cell_type": "markdown",
   "metadata": {},
   "source": [
    "### Part One"
   ]
  },
  {
   "cell_type": "markdown",
   "metadata": {},
   "source": [
    "As we mentioned earlier, our objective is to identify the types of apps that have a high response rate from the users since the number of users of the apps is directly proportional to our revenue\\. To mitigate the risks and overhead, our ploy for app generation has three levels.\n",
    "\n",
    "* Build a minimal Android version of the app, and add it to Google Play\n",
    "* If the app has a good response from users, we develop it further.\n",
    "* If the app is profitable after six months, we build an iOS version of the app and add it to the App Store\n",
    "\n",
    "Our aim at the end of our analysis is to add the app on both Google Play and the App Store, we need to find app profiles that are successful in both markets."
   ]
  },
  {
   "cell_type": "markdown",
   "metadata": {},
   "source": [
    "### Part Two"
   ]
  },
  {
   "cell_type": "code",
   "execution_count": 12,
   "metadata": {},
   "outputs": [
    {
     "name": "stdout",
     "output_type": "stream",
     "text": [
      "{'Social Networking': 3.5256410256410255, 'Photo & Video': 4.117357001972387, 'Games': 55.64595660749507, 'Music': 1.6518737672583828, 'Reference': 0.4930966469428008, 'Health & Fitness': 1.8737672583826428, 'Weather': 0.7642998027613412, 'Utilities': 2.687376725838264, 'Travel': 1.3806706114398422, 'Shopping': 2.983234714003945, 'News': 1.4299802761341223, 'Navigation': 0.4930966469428008, 'Lifestyle': 2.3175542406311638, 'Entertainment': 8.234714003944774, 'Food & Drink': 1.0601577909270217, 'Sports': 1.947731755424063, 'Book': 1.6272189349112427, 'Finance': 2.0710059171597637, 'Education': 3.2544378698224854, 'Productivity': 1.5285996055226825, 'Business': 0.4930966469428008, 'Catalogs': 0.22189349112426035, 'Medical': 0.19723865877712032}\n",
      "\n",
      "\n",
      "{'Art & Design': 0.5478087649402391, 'Art & Design;Pretend Play': 0.0199203187250996, 'Art & Design;Creativity': 0.06972111553784861, 'Art & Design;Action & Adventure': 0.0199203187250996, 'Auto & Vehicles': 0.8167330677290837, 'Beauty': 0.5278884462151394, 'Books & Reference': 2.0219123505976095, 'Business': 4.442231075697211, 'Comics': 0.5876494023904383, 'Comics;Creativity': 0.0099601593625498, 'Communication': 3.5856573705179287, 'Dating': 2.2609561752988045, 'Education;Education': 0.4382470119521913, 'Education': 5.169322709163347, 'Education;Creativity': 0.049800796812749, 'Education;Music & Video': 0.049800796812749, 'Education;Action & Adventure': 0.0398406374501992, 'Education;Pretend Play': 0.0796812749003984, 'Education;Brain Games': 0.0398406374501992, 'Entertainment': 6.01593625498008, 'Entertainment;Music & Video': 0.26892430278884466, 'Entertainment;Brain Games': 0.0796812749003984, 'Entertainment;Creativity': 0.0298804780876494, 'Events': 0.6274900398406374, 'Finance': 3.4760956175298805, 'Food & Drink': 1.245019920318725, 'Health & Fitness': 3.237051792828685, 'House & Home': 0.8764940239043826, 'Libraries & Demo': 0.8366533864541833, 'Lifestyle': 3.6055776892430282, 'Lifestyle;Pretend Play': 0.0099601593625498, 'Adventure;Action & Adventure': 0.10956175298804782, 'Arcade': 1.9920318725099602, 'Casual': 1.8326693227091633, 'Card': 0.40836653386454186, 'Casual;Pretend Play': 0.24900398406374502, 'Action': 3.396414342629482, 'Strategy': 0.9362549800796812, 'Puzzle': 1.205179282868526, 'Sports': 3.7250996015936253, 'Music': 0.20916334661354583, 'Word': 0.2888446215139442, 'Racing': 0.9462151394422311, 'Casual;Creativity': 0.06972111553784861, 'Casual;Action & Adventure': 0.199203187250996, 'Simulation': 1.902390438247012, 'Adventure': 0.6274900398406374, 'Board': 0.348605577689243, 'Trivia': 0.3784860557768924, 'Role Playing': 0.8665338645418327, 'Action;Action & Adventure': 0.13944223107569723, 'Casual;Brain Games': 0.1294820717131474, 'Simulation;Action & Adventure': 0.10956175298804782, 'Educational;Creativity': 0.0298804780876494, 'Puzzle;Brain Games': 0.1693227091633466, 'Educational;Education': 0.3784860557768924, 'Card;Brain Games': 0.0099601593625498, 'Educational;Brain Games': 0.0597609561752988, 'Educational;Pretend Play': 0.13944223107569723, 'Entertainment;Education': 0.0099601593625498, 'Casual;Education': 0.0199203187250996, 'Music;Music & Video': 0.0199203187250996, 'Racing;Action & Adventure': 0.1892430278884462, 'Arcade;Pretend Play': 0.0099601593625498, 'Role Playing;Action & Adventure': 0.0597609561752988, 'Simulation;Pretend Play': 0.0298804780876494, 'Puzzle;Creativity': 0.0199203187250996, 'Sports;Action & Adventure': 0.0199203187250996, 'Educational;Action & Adventure': 0.0398406374501992, 'Arcade;Action & Adventure': 0.1195219123505976, 'Entertainment;Action & Adventure': 0.0298804780876494, 'Puzzle;Action & Adventure': 0.049800796812749, 'Strategy;Action & Adventure': 0.0099601593625498, 'Music & Audio;Music & Video': 0.0099601593625498, 'Health & Fitness;Education': 0.0099601593625498, 'Adventure;Education': 0.0199203187250996, 'Board;Brain Games': 0.0796812749003984, 'Board;Action & Adventure': 0.0199203187250996, 'Casual;Music & Video': 0.0199203187250996, 'Role Playing;Pretend Play': 0.049800796812749, 'Entertainment;Pretend Play': 0.0199203187250996, 'Video Players & Editors;Creativity': 0.0199203187250996, 'Medical': 3.5258964143426295, 'Social': 2.908366533864542, 'Shopping': 2.5697211155378485, 'Photography': 3.117529880478088, 'Travel & Local': 2.4402390438247012, 'Travel & Local;Action & Adventure': 0.0099601593625498, 'Tools': 7.609561752988048, 'Tools;Education': 0.0099601593625498, 'Personalization': 3.0776892430278884, 'Productivity': 3.944223107569721, 'Parenting': 0.4382470119521913, 'Parenting;Music & Video': 0.0597609561752988, 'Parenting;Education': 0.06972111553784861, 'Parenting;Brain Games': 0.0099601593625498, 'Weather': 0.7370517928286853, 'Video Players & Editors': 1.6832669322709164, 'Video Players & Editors;Music & Video': 0.0298804780876494, 'News & Magazines': 2.7988047808764938, 'Maps & Navigation': 1.3147410358565739, 'Health & Fitness;Action & Adventure': 0.0099601593625498, 'Educational': 0.32868525896414347, 'Casino': 0.3784860557768924, 'Trivia;Education': 0.0099601593625498, 'Lifestyle;Education': 0.0099601593625498, 'Card;Action & Adventure': 0.0099601593625498, 'Books & Reference;Education': 0.0099601593625498, 'Simulation;Education': 0.0099601593625498, 'Puzzle;Education': 0.0099601593625498, 'Role Playing;Brain Games': 0.0099601593625498, 'Strategy;Education': 0.0099601593625498, 'Racing;Pretend Play': 0.0099601593625498, 'Communication;Creativity': 0.0099601593625498, 'Strategy;Creativity': 0.0099601593625498}\n",
      "\n",
      "\n",
      "{'ART_AND_DESIGN': 0.6175298804780877, 'AUTO_AND_VEHICLES': 0.8167330677290837, 'BEAUTY': 0.5278884462151394, 'BOOKS_AND_REFERENCE': 2.0219123505976095, 'BUSINESS': 4.442231075697211, 'COMICS': 0.5976095617529881, 'COMMUNICATION': 3.5856573705179287, 'DATING': 2.2609561752988045, 'EDUCATION': 1.5139442231075697, 'ENTERTAINMENT': 1.4641434262948207, 'EVENTS': 0.6274900398406374, 'FINANCE': 3.4760956175298805, 'FOOD_AND_DRINK': 1.245019920318725, 'HEALTH_AND_FITNESS': 3.237051792828685, 'HOUSE_AND_HOME': 0.8764940239043826, 'LIBRARIES_AND_DEMO': 0.8366533864541833, 'LIFESTYLE': 3.6155378486055776, 'GAME': 10.56772908366534, 'FAMILY': 17.739043824701195, 'MEDICAL': 3.5258964143426295, 'SOCIAL': 2.908366533864542, 'SHOPPING': 2.5697211155378485, 'PHOTOGRAPHY': 3.117529880478088, 'SPORTS': 3.5856573705179287, 'TRAVEL_AND_LOCAL': 2.450199203187251, 'TOOLS': 7.6195219123505975, 'PERSONALIZATION': 3.0776892430278884, 'PRODUCTIVITY': 3.944223107569721, 'PARENTING': 0.5776892430278884, 'WEATHER': 0.7370517928286853, 'VIDEO_PLAYERS': 1.7031872509960162, 'NEWS_AND_MAGAZINES': 2.7988047808764938, 'MAPS_AND_NAVIGATION': 1.3147410358565739}\n"
     ]
    }
   ],
   "source": [
    "def freq_table(dataset, index):\n",
    "    table = {}\n",
    "    total = 0\n",
    "    \n",
    "    for row in dataset:\n",
    "        total += 1\n",
    "        value = row[index]\n",
    "        if value in table:\n",
    "            table[value] += 1\n",
    "        else:\n",
    "            table[value] = 1\n",
    "    \n",
    "    table_percentages = {}\n",
    "    for key in table:\n",
    "        percentage = (table[key] / total) * 100\n",
    "        table_percentages[key] = percentage \n",
    "    \n",
    "    return table_percentages\n",
    "\n",
    "\n",
    "def display_table(dataset, index):\n",
    "    table = freq_table(dataset, index)\n",
    "    table_display = []\n",
    "    for key in table:\n",
    "        key_val_as_tuple = (table[key], key)\n",
    "        table_display.append(key_val_as_tuple)\n",
    "        \n",
    "    table_sorted = sorted(table_display, reverse = True)\n",
    "    for entry in table_sorted:\n",
    "        print(entry[1], ':', entry[0])\n",
    "\n",
    "print(freq_table(ios_final, 11))\n",
    "print('\\n')\n",
    "print(freq_table(android_final, 9))\n",
    "print('\\n')\n",
    "print(freq_table(android_final, 1))\n",
    "\n",
    "    "
   ]
  },
  {
   "cell_type": "markdown",
   "metadata": {},
   "source": [
    "### Part Three"
   ]
  },
  {
   "cell_type": "code",
   "execution_count": 13,
   "metadata": {
    "scrolled": true
   },
   "outputs": [
    {
     "name": "stdout",
     "output_type": "stream",
     "text": [
      "Games : 55.64595660749507\n",
      "Entertainment : 8.234714003944774\n",
      "Photo & Video : 4.117357001972387\n",
      "Social Networking : 3.5256410256410255\n",
      "Education : 3.2544378698224854\n",
      "Shopping : 2.983234714003945\n",
      "Utilities : 2.687376725838264\n",
      "Lifestyle : 2.3175542406311638\n",
      "Finance : 2.0710059171597637\n",
      "Sports : 1.947731755424063\n",
      "Health & Fitness : 1.8737672583826428\n",
      "Music : 1.6518737672583828\n",
      "Book : 1.6272189349112427\n",
      "Productivity : 1.5285996055226825\n",
      "News : 1.4299802761341223\n",
      "Travel : 1.3806706114398422\n",
      "Food & Drink : 1.0601577909270217\n",
      "Weather : 0.7642998027613412\n",
      "Reference : 0.4930966469428008\n",
      "Navigation : 0.4930966469428008\n",
      "Business : 0.4930966469428008\n",
      "Catalogs : 0.22189349112426035\n",
      "Medical : 0.19723865877712032\n"
     ]
    }
   ],
   "source": [
    "display_table(ios_final, 11) # Prime genre\n"
   ]
  },
  {
   "cell_type": "markdown",
   "metadata": {},
   "source": [
    "Among the free English apps, 55.64% are games (more than a half). Entertainment apps are close to 8%, followed by photo and video apps, which are 4%. 3.25% of the apps are designed for education, followed by social networking apps which amount for 3.52% of the apps in our data set.\n",
    "\n",
    "The general conclusion from our data set is that App Store is majorly dominated by apps that are designed for fun (games, entertainment, photo and video, social networking, sports, music, etc.), while apps with practical purposes (education, shopping, utilities, productivity, lifestyle, etc.) are more rare.\n",
    "\n",
    "The fact that fun apps are the most numerous doesn't also imply that they also have the greatest number of users — the demand might not be the same as the offer\n"
   ]
  },
  {
   "cell_type": "code",
   "execution_count": 14,
   "metadata": {
    "scrolled": true
   },
   "outputs": [
    {
     "name": "stdout",
     "output_type": "stream",
     "text": [
      "FAMILY : 17.739043824701195\n",
      "GAME : 10.56772908366534\n",
      "TOOLS : 7.6195219123505975\n",
      "BUSINESS : 4.442231075697211\n",
      "PRODUCTIVITY : 3.944223107569721\n",
      "LIFESTYLE : 3.6155378486055776\n",
      "SPORTS : 3.5856573705179287\n",
      "COMMUNICATION : 3.5856573705179287\n",
      "MEDICAL : 3.5258964143426295\n",
      "FINANCE : 3.4760956175298805\n",
      "HEALTH_AND_FITNESS : 3.237051792828685\n",
      "PHOTOGRAPHY : 3.117529880478088\n",
      "PERSONALIZATION : 3.0776892430278884\n",
      "SOCIAL : 2.908366533864542\n",
      "NEWS_AND_MAGAZINES : 2.7988047808764938\n",
      "SHOPPING : 2.5697211155378485\n",
      "TRAVEL_AND_LOCAL : 2.450199203187251\n",
      "DATING : 2.2609561752988045\n",
      "BOOKS_AND_REFERENCE : 2.0219123505976095\n",
      "VIDEO_PLAYERS : 1.7031872509960162\n",
      "EDUCATION : 1.5139442231075697\n",
      "ENTERTAINMENT : 1.4641434262948207\n",
      "MAPS_AND_NAVIGATION : 1.3147410358565739\n",
      "FOOD_AND_DRINK : 1.245019920318725\n",
      "HOUSE_AND_HOME : 0.8764940239043826\n",
      "LIBRARIES_AND_DEMO : 0.8366533864541833\n",
      "AUTO_AND_VEHICLES : 0.8167330677290837\n",
      "WEATHER : 0.7370517928286853\n",
      "EVENTS : 0.6274900398406374\n",
      "ART_AND_DESIGN : 0.6175298804780877\n",
      "COMICS : 0.5976095617529881\n",
      "PARENTING : 0.5776892430278884\n",
      "BEAUTY : 0.5278884462151394\n"
     ]
    }
   ],
   "source": [
    "display_table(android_final, 1) # Category\n"
   ]
  },
  {
   "cell_type": "markdown",
   "metadata": {},
   "source": [
    "The most common genres are family with a 17.74% followed by game which is close to 12%. Business is at 4.4% followed closely by productivity which is close to 4%. The trend seems significantly different on Google Play compared to AppleStore. \n",
    "\n",
    "There are not that many apps designed for fun, and it seems that a good number of apps are designed for practical purposes (family, tools, business, lifestyle, productivity, etc.)\n",
    "\n"
   ]
  },
  {
   "cell_type": "code",
   "execution_count": 15,
   "metadata": {},
   "outputs": [
    {
     "name": "stdout",
     "output_type": "stream",
     "text": [
      "Tools : 7.609561752988048\n",
      "Entertainment : 6.01593625498008\n",
      "Education : 5.169322709163347\n",
      "Business : 4.442231075697211\n",
      "Productivity : 3.944223107569721\n",
      "Sports : 3.7250996015936253\n",
      "Lifestyle : 3.6055776892430282\n",
      "Communication : 3.5856573705179287\n",
      "Medical : 3.5258964143426295\n",
      "Finance : 3.4760956175298805\n",
      "Action : 3.396414342629482\n",
      "Health & Fitness : 3.237051792828685\n",
      "Photography : 3.117529880478088\n",
      "Personalization : 3.0776892430278884\n",
      "Social : 2.908366533864542\n",
      "News & Magazines : 2.7988047808764938\n",
      "Shopping : 2.5697211155378485\n",
      "Travel & Local : 2.4402390438247012\n",
      "Dating : 2.2609561752988045\n",
      "Books & Reference : 2.0219123505976095\n",
      "Arcade : 1.9920318725099602\n",
      "Simulation : 1.902390438247012\n",
      "Casual : 1.8326693227091633\n",
      "Video Players & Editors : 1.6832669322709164\n",
      "Maps & Navigation : 1.3147410358565739\n",
      "Food & Drink : 1.245019920318725\n",
      "Puzzle : 1.205179282868526\n",
      "Racing : 0.9462151394422311\n",
      "Strategy : 0.9362549800796812\n",
      "House & Home : 0.8764940239043826\n",
      "Role Playing : 0.8665338645418327\n",
      "Libraries & Demo : 0.8366533864541833\n",
      "Auto & Vehicles : 0.8167330677290837\n",
      "Weather : 0.7370517928286853\n",
      "Events : 0.6274900398406374\n",
      "Adventure : 0.6274900398406374\n",
      "Comics : 0.5876494023904383\n",
      "Art & Design : 0.5478087649402391\n",
      "Beauty : 0.5278884462151394\n",
      "Parenting : 0.4382470119521913\n",
      "Education;Education : 0.4382470119521913\n",
      "Card : 0.40836653386454186\n",
      "Trivia : 0.3784860557768924\n",
      "Educational;Education : 0.3784860557768924\n",
      "Casino : 0.3784860557768924\n",
      "Board : 0.348605577689243\n",
      "Educational : 0.32868525896414347\n",
      "Word : 0.2888446215139442\n",
      "Entertainment;Music & Video : 0.26892430278884466\n",
      "Casual;Pretend Play : 0.24900398406374502\n",
      "Music : 0.20916334661354583\n",
      "Casual;Action & Adventure : 0.199203187250996\n",
      "Racing;Action & Adventure : 0.1892430278884462\n",
      "Puzzle;Brain Games : 0.1693227091633466\n",
      "Educational;Pretend Play : 0.13944223107569723\n",
      "Action;Action & Adventure : 0.13944223107569723\n",
      "Casual;Brain Games : 0.1294820717131474\n",
      "Arcade;Action & Adventure : 0.1195219123505976\n",
      "Simulation;Action & Adventure : 0.10956175298804782\n",
      "Adventure;Action & Adventure : 0.10956175298804782\n",
      "Entertainment;Brain Games : 0.0796812749003984\n",
      "Education;Pretend Play : 0.0796812749003984\n",
      "Board;Brain Games : 0.0796812749003984\n",
      "Parenting;Education : 0.06972111553784861\n",
      "Casual;Creativity : 0.06972111553784861\n",
      "Art & Design;Creativity : 0.06972111553784861\n",
      "Role Playing;Action & Adventure : 0.0597609561752988\n",
      "Parenting;Music & Video : 0.0597609561752988\n",
      "Educational;Brain Games : 0.0597609561752988\n",
      "Role Playing;Pretend Play : 0.049800796812749\n",
      "Puzzle;Action & Adventure : 0.049800796812749\n",
      "Education;Music & Video : 0.049800796812749\n",
      "Education;Creativity : 0.049800796812749\n",
      "Educational;Action & Adventure : 0.0398406374501992\n",
      "Education;Brain Games : 0.0398406374501992\n",
      "Education;Action & Adventure : 0.0398406374501992\n",
      "Video Players & Editors;Music & Video : 0.0298804780876494\n",
      "Simulation;Pretend Play : 0.0298804780876494\n",
      "Entertainment;Creativity : 0.0298804780876494\n",
      "Entertainment;Action & Adventure : 0.0298804780876494\n",
      "Educational;Creativity : 0.0298804780876494\n",
      "Video Players & Editors;Creativity : 0.0199203187250996\n",
      "Sports;Action & Adventure : 0.0199203187250996\n",
      "Puzzle;Creativity : 0.0199203187250996\n",
      "Music;Music & Video : 0.0199203187250996\n",
      "Entertainment;Pretend Play : 0.0199203187250996\n",
      "Casual;Music & Video : 0.0199203187250996\n",
      "Casual;Education : 0.0199203187250996\n",
      "Board;Action & Adventure : 0.0199203187250996\n",
      "Art & Design;Pretend Play : 0.0199203187250996\n",
      "Art & Design;Action & Adventure : 0.0199203187250996\n",
      "Adventure;Education : 0.0199203187250996\n",
      "Trivia;Education : 0.0099601593625498\n",
      "Travel & Local;Action & Adventure : 0.0099601593625498\n",
      "Tools;Education : 0.0099601593625498\n",
      "Strategy;Education : 0.0099601593625498\n",
      "Strategy;Creativity : 0.0099601593625498\n",
      "Strategy;Action & Adventure : 0.0099601593625498\n",
      "Simulation;Education : 0.0099601593625498\n",
      "Role Playing;Brain Games : 0.0099601593625498\n",
      "Racing;Pretend Play : 0.0099601593625498\n",
      "Puzzle;Education : 0.0099601593625498\n",
      "Parenting;Brain Games : 0.0099601593625498\n",
      "Music & Audio;Music & Video : 0.0099601593625498\n",
      "Lifestyle;Pretend Play : 0.0099601593625498\n",
      "Lifestyle;Education : 0.0099601593625498\n",
      "Health & Fitness;Education : 0.0099601593625498\n",
      "Health & Fitness;Action & Adventure : 0.0099601593625498\n",
      "Entertainment;Education : 0.0099601593625498\n",
      "Communication;Creativity : 0.0099601593625498\n",
      "Comics;Creativity : 0.0099601593625498\n",
      "Card;Brain Games : 0.0099601593625498\n",
      "Card;Action & Adventure : 0.0099601593625498\n",
      "Books & Reference;Education : 0.0099601593625498\n",
      "Arcade;Pretend Play : 0.0099601593625498\n"
     ]
    }
   ],
   "source": [
    "display_table(android_final, 9) # Genres\n"
   ]
  },
  {
   "cell_type": "markdown",
   "metadata": {},
   "source": [
    "There is a thin line separating Genre and Category columns in our dataset, but one observable feature we see is that the Genres column has more categories than the Genre column.\n",
    "\n",
    "Up to this point, we found that the App Store is dominated by apps designed for fun, while Google Play shows a more balanced landscape of both practical and for-fun apps."
   ]
  },
  {
   "cell_type": "markdown",
   "metadata": {},
   "source": [
    "## Most Popular Apps by Genre on the App Store"
   ]
  },
  {
   "cell_type": "code",
   "execution_count": 16,
   "metadata": {
    "scrolled": true
   },
   "outputs": [
    {
     "name": "stdout",
     "output_type": "stream",
     "text": [
      "Social Networking : 53078.195804195806\n",
      "Photo & Video : 27249.892215568863\n",
      "Games : 18924.68896765618\n",
      "Music : 56482.02985074627\n",
      "Reference : 67447.9\n",
      "Health & Fitness : 19952.315789473683\n",
      "Weather : 47220.93548387097\n",
      "Utilities : 14010.100917431193\n",
      "Travel : 20216.01785714286\n",
      "Shopping : 18746.677685950413\n",
      "News : 15892.724137931034\n",
      "Navigation : 25972.05\n",
      "Lifestyle : 8978.308510638299\n",
      "Entertainment : 10822.961077844311\n",
      "Food & Drink : 20179.093023255813\n",
      "Sports : 20128.974683544304\n",
      "Book : 8498.333333333334\n",
      "Finance : 13522.261904761905\n",
      "Education : 6266.333333333333\n",
      "Productivity : 19053.887096774193\n",
      "Business : 6367.8\n",
      "Catalogs : 1779.5555555555557\n",
      "Medical : 459.75\n"
     ]
    }
   ],
   "source": [
    "genres_ios = freq_table(ios_final, 11)\n",
    "\n",
    "for genre in genres_ios:\n",
    "    total = 0\n",
    "    len_genre = 0\n",
    "    for app in ios_final:\n",
    "        genre_app = app[11]\n",
    "        if genre_app == genre:\n",
    "            n_ratings = float(app[5])\n",
    "            total += n_ratings\n",
    "            len_genre += 1\n",
    "    avg_n_ratings = total/len_genre\n",
    "    print(genre, ':', avg_n_ratings)\n",
    "        "
   ]
  },
  {
   "cell_type": "markdown",
   "metadata": {},
   "source": [
    "On average, reference apps have the highest number of user reviews, perhaps this is heavily influenced by a few big players like Bible and Dictionary.com"
   ]
  },
  {
   "cell_type": "markdown",
   "metadata": {},
   "source": [
    "## Most Popular Apps by Genre on Google Play"
   ]
  },
  {
   "cell_type": "code",
   "execution_count": 17,
   "metadata": {},
   "outputs": [
    {
     "name": "stdout",
     "output_type": "stream",
     "text": [
      "ART_AND_DESIGN : 2005195.1612903227\n",
      "AUTO_AND_VEHICLES : 647317.8170731707\n",
      "BEAUTY : 513151.88679245283\n",
      "BOOKS_AND_REFERENCE : 9465252.512315271\n",
      "BUSINESS : 2245520.3811659194\n",
      "COMICS : 934769.1666666666\n",
      "COMMUNICATION : 90683100.55833334\n",
      "DATING : 1164270.7356828193\n",
      "EDUCATION : 5729276.315789473\n",
      "ENTERTAINMENT : 19516734.69387755\n",
      "EVENTS : 253542.22222222222\n",
      "FINANCE : 2511355.6790830945\n",
      "FOOD_AND_DRINK : 2190710.008\n",
      "HEALTH_AND_FITNESS : 4869225.852307692\n",
      "HOUSE_AND_HOME : 1917187.0568181819\n",
      "LIBRARIES_AND_DEMO : 749950.119047619\n",
      "LIFESTYLE : 1477863.44077135\n",
      "GAME : 33048939.16116871\n",
      "FAMILY : 5742274.952835485\n",
      "MEDICAL : 147563.28813559323\n",
      "SOCIAL : 48184458.56849315\n",
      "SHOPPING : 12588522.03488372\n",
      "PHOTOGRAPHY : 32218111.54952077\n",
      "SPORTS : 4860918.563888889\n",
      "TRAVEL_AND_LOCAL : 27921561.32520325\n",
      "TOOLS : 14968685.586928105\n",
      "PERSONALIZATION : 7508854.330097088\n",
      "PRODUCTIVITY : 35794644.73232323\n",
      "PARENTING : 542603.6206896552\n",
      "WEATHER : 5747142.162162162\n",
      "VIDEO_PLAYERS : 36385565.614035085\n",
      "NEWS_AND_MAGAZINES : 26677267.829181496\n",
      "MAPS_AND_NAVIGATION : 5486066.590909091\n"
     ]
    }
   ],
   "source": [
    "category_android = freq_table(android_final, 1)\n",
    "\n",
    "for category in category_android:\n",
    "    total = 0\n",
    "    len_category = 0\n",
    "    for app in android_final:\n",
    "        category_app = app[1]\n",
    "        if category_app == category:\n",
    "            n_installs = app[5]\n",
    "            n_installs = n_installs.replace(',', '')\n",
    "            n_installs = n_installs.replace('+', '')\n",
    "            total += float(n_installs)\n",
    "            len_category += 1\n",
    "            \n",
    "    avg_n_installs = total / len_category\n",
    "    print(category, ':', avg_n_installs)\n",
    "        \n"
   ]
  },
  {
   "cell_type": "markdown",
   "metadata": {},
   "source": [
    "On average, communication apps in the Google Play data set have the highest number of user installations, perhaps this is heavily influenced by a few apps that have over a huge number of installs (Facebook, Whatsapp, Gmail, Google Chrome, etc.). \n",
    "\n",
    "On the other hand Social apps follow (though by a wide margin) with close to 50,000,000 installs.\n",
    "\n",
    "The books and reference genre looks fairly popular as well, with an average number of installs of 9,465,252. It's interesting since we found this genre has some potential to work well on the App Store, and our aim is to recommend an app genre that shows potential for being profitable on both the App Store and Google Play."
   ]
  },
  {
   "cell_type": "markdown",
   "metadata": {},
   "source": [
    "## Conclusion"
   ]
  },
  {
   "cell_type": "markdown",
   "metadata": {},
   "source": [
    "In this project, we analyzed data about the App Store and Google Play mobile apps with the goal of recommending an app profile that can be profitable for both markets.\n",
    "\n",
    "We concluded that taking a popular book and turning it into an app could be profitable for both the Google Play and the App Store markets. The markets are already full of libraries, so we need to add some special features besides the raw version of the book. This might include daily quotes from the book, an audio version of the book, quizzes on the book, a forum where people can discuss the book, etc."
   ]
  }
 ],
 "metadata": {
  "kernelspec": {
   "display_name": "Python 3",
   "language": "python",
   "name": "python3"
  },
  "language_info": {
   "codemirror_mode": {
    "name": "ipython",
    "version": 3
   },
   "file_extension": ".py",
   "mimetype": "text/x-python",
   "name": "python",
   "nbconvert_exporter": "python",
   "pygments_lexer": "ipython3",
   "version": "3.8.2"
  }
 },
 "nbformat": 4,
 "nbformat_minor": 2
}
